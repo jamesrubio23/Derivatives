{
  "nbformat": 4,
  "nbformat_minor": 0,
  "metadata": {
    "colab": {
      "provenance": []
    },
    "kernelspec": {
      "name": "python3",
      "display_name": "Python 3"
    },
    "language_info": {
      "name": "python"
    }
  },
  "cells": [
    {
      "cell_type": "code",
      "source": [
        "import numpy as np\n",
        "import math\n",
        "\n",
        "def options_tree_european(N, option_name, K, S0, theta, T, r):\n",
        "  \"\"\"\n",
        "  N: Number of nodes\n",
        "  option_name: call option or put option\n",
        "  K: Strike price\n",
        "  S0: Stock price right now\n",
        "  theta: volatility\n",
        "  T: Time from first node to the last one\n",
        "  r: risk free interest rate\n",
        "  ---------------------------------------\n",
        "  Returns the price of the option it should be selled or bought using the binomial tree\n",
        "  \"\"\"\n",
        "\n",
        "  part_time = T/N\n",
        "  u = np.exp(theta*np.sqrt(part_time)) #Volatility\n",
        "  d = np.exp(-theta*np.sqrt(part_time))\n",
        "\n",
        "  #Calculate F as a numpy vector with f. Each f is the increase or decrease that had the stock price.\n",
        "  F = S0*d**np.arange(N,-1,-1)*u**np.arange(0,N+1,1)\n",
        "\n",
        "  #Calculate the 'fake' probability\n",
        "  p = (np.exp(r*part_time)-d)/(u-d)\n",
        "\n",
        "  #Checks if the option name is correct and calculates the price of the option at the last node.\n",
        "  if option_name == \"call\":\n",
        "    F = np.maximum(F-K,np.zeros(N+1))\n",
        "\n",
        "  elif option_name == \"put\":\n",
        "    F=np.maximum(K-F,np.zeros(N+1))\n",
        "\n",
        "  #Calculates the new F, a vector with new values f in the next node, with a value f and its down value.\n",
        "  for i in range(N,0,-1):\n",
        "    F = np.exp(-r*part_time)*(p*F[1:i+1]+(1-p)*F[0:i])\n",
        "    #print(f\"Node {i}\")\n",
        "    #print(F)\n",
        "  return F[0]\n",
        "\n",
        "\n",
        "N = 250\n",
        "option_name = \"put\"\n",
        "K = 52\n",
        "S0 = 50\n",
        "theta = 0.3\n",
        "T = 2\n",
        "r = 0.05\n",
        "options_tree_european(N, option_name, K, S0, theta, T, r)\n",
        "#We can check the result with any option pricer web\n"
      ],
      "metadata": {
        "colab": {
          "base_uri": "https://localhost:8080/"
        },
        "outputId": "811f413d-e4b3-43ee-e066-fe9c604deca4",
        "id": "28p_x5zN2VdL"
      },
      "execution_count": 9,
      "outputs": [
        {
          "output_type": "execute_result",
          "data": {
            "text/plain": [
              "6.763965842173821"
            ]
          },
          "metadata": {},
          "execution_count": 9
        }
      ]
    },
    {
      "cell_type": "code",
      "source": [
        "#Call option value from a share with date of exercise 156 days\n",
        "N = 156\n",
        "option_name = \"call\"\n",
        "K = 45\n",
        "S0 = 44\n",
        "theta = 0.31\n",
        "T = 156/365\n",
        "r = 0.07\n",
        "options_tree_european(N, option_name, K, S0, theta, T, r)"
      ],
      "metadata": {
        "colab": {
          "base_uri": "https://localhost:8080/"
        },
        "id": "k_Ejbe-Zp_0m",
        "outputId": "dca0bfde-f496-442a-f635-2d740d5cb36f"
      },
      "execution_count": null,
      "outputs": [
        {
          "output_type": "execute_result",
          "data": {
            "text/plain": [
              "3.7075130265768546"
            ]
          },
          "metadata": {},
          "execution_count": 11
        }
      ]
    },
    {
      "cell_type": "code",
      "source": [],
      "metadata": {
        "id": "DZ79uFPGw09K"
      },
      "execution_count": null,
      "outputs": []
    }
  ]
}